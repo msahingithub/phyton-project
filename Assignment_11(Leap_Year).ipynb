{
  "nbformat": 4,
  "nbformat_minor": 0,
  "metadata": {
    "colab": {
      "provenance": [],
      "authorship_tag": "ABX9TyP7zZP1rW6gs22ALTUuIGGD",
      "include_colab_link": true
    },
    "kernelspec": {
      "name": "python3",
      "display_name": "Python 3"
    },
    "language_info": {
      "name": "python"
    }
  },
  "cells": [
    {
      "cell_type": "markdown",
      "metadata": {
        "id": "view-in-github",
        "colab_type": "text"
      },
      "source": [
        "<a href=\"https://colab.research.google.com/github/msahingithub/phyton-project/blob/main/Assignment_11(Leap_Year).ipynb\" target=\"_parent\"><img src=\"https://colab.research.google.com/assets/colab-badge.svg\" alt=\"Open In Colab\"/></a>"
      ]
    },
    {
      "cell_type": "code",
      "execution_count": null,
      "metadata": {
        "id": "j6StU36HC3EQ"
      },
      "outputs": [],
      "source": [
        "year = int(input(\"enter a year :\"))\n",
        "\n",
        "if year % 4 == 0 and year % 100 != 0 :\n",
        "  print(f\"{year} is a leap year\")\n",
        "elif year % 100 == 0 and year % 400 == 0 :\n",
        "  print(f\"{year} is a leap year\")\n",
        "\n",
        "else :\n",
        "  print(f\"{year} is Not a leap year\")"
      ]
    }
  ]
}